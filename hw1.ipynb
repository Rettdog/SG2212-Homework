{
 "cells": [
  {
   "cell_type": "markdown",
   "metadata": {},
   "source": [
    "# Task 2:\n",
    "\n",
    "The following code can be used in python to determine the machine accuracy ε (or Machine epsilon):\n",
    "\n",
    "```\n",
    "import numpy as np\n",
    "numprec=1.0\n",
    "while 1<np.float32(1+numprec): # Check sum with single precision\n",
    "# while 1<1+numprec: # Check sum with double precision\n",
    "numprec*=0.5\n",
    "numprec*=2\n",
    "```\n",
    "\n",
    "1. Determine ε using the above code, both for single and double precision. A double precision number\n",
    "uses 8 bytes of storage, whereas a single precision number only occupies 4 bytes.\n",
    "2. Give a definition of the machine accuracy based on the code above (use words and not mathematical\n",
    "expression)"
   ]
  },
  {
   "cell_type": "code",
   "execution_count": 9,
   "metadata": {},
   "outputs": [
    {
     "name": "stdout",
     "output_type": "stream",
     "text": [
      "Machine epsilon (Single, 4 bytes):1.1920928955078125e-07\n",
      "Machine epsilon (Double, 8 bytes):2.220446049250313e-16\n"
     ]
    }
   ],
   "source": [
    "import numpy as np\n",
    "\n",
    "# Divide 1 by 2 repeatedly until it is equivalent to 0 according to 32 bit floating point values\n",
    "numprec_single = 1.0\n",
    "while 1<np.float32(1+numprec_single): #single\n",
    "    numprec_single*=0.5\n",
    "numprec_single*=2\n",
    "print(f'Machine epsilon (Single, 4 bytes):{numprec_single}')\n",
    "\n",
    "# Divide 1 by 2 repeatedly until it is equivalent to 0 according to a double floating point value\n",
    "numprec_double = 1.0\n",
    "#while 1<np.float32(1+numprec): #single\n",
    "while 1<1+numprec_double: #double\n",
    "    numprec_double*=0.5\n",
    "numprec_double*=2\n",
    "print(f'Machine epsilon (Double, 8 bytes):{numprec_double}')"
   ]
  }
 ],
 "metadata": {
  "kernelspec": {
   "display_name": "env",
   "language": "python",
   "name": "python3"
  },
  "language_info": {
   "codemirror_mode": {
    "name": "ipython",
    "version": 3
   },
   "file_extension": ".py",
   "mimetype": "text/x-python",
   "name": "python",
   "nbconvert_exporter": "python",
   "pygments_lexer": "ipython3",
   "version": "3.12.1"
  }
 },
 "nbformat": 4,
 "nbformat_minor": 2
}
