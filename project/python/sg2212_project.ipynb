{
 "cells": [
  {
   "cell_type": "markdown",
   "metadata": {},
   "source": [
    "# Project SG2212\n",
    "\n",
    "Development of a Python code to solve the two-dimensional Navier-Stokes equations on a rectangular domain.\n",
    "\n",
    "Code worked on by Garrett Kunkler, Michaela Jankulicova, and Sebastian Lis"
   ]
  },
  {
   "cell_type": "markdown",
   "metadata": {},
   "source": [
    "Import some relevant libraries:"
   ]
  },
  {
   "cell_type": "code",
   "execution_count": 599,
   "metadata": {},
   "outputs": [],
   "source": [
    "%matplotlib inline\n",
    "# possible options: notebook, inline or widget #TODO: check whether this works properly\n",
    "import numpy as np\n",
    "import matplotlib.pyplot as plt\n",
    "import matplotlib.pylab as pylab\n",
    "import matplotlib.animation\n",
    "import math \n",
    "import scipy.sparse as sp\n",
    "import scipy.linalg as scl\n",
    "from scipy.sparse.linalg import splu\n",
    "params = {'legend.fontsize': 12,\n",
    "          'legend.loc':'best',\n",
    "          'figure.figsize': (8,5),\n",
    "          'lines.markerfacecolor':'none',\n",
    "          'axes.labelsize': 12,\n",
    "          'axes.titlesize': 12,\n",
    "          'xtick.labelsize':12,\n",
    "          'ytick.labelsize':12,\n",
    "          'grid.alpha':0.6}\n",
    "pylab.rcParams.update(params)"
   ]
  },
  {
   "cell_type": "markdown",
   "metadata": {},
   "source": [
    "Some useful functions:"
   ]
  },
  {
   "cell_type": "code",
   "execution_count": 600,
   "metadata": {},
   "outputs": [],
   "source": [
    "def avg(A,axis=0):\n",
    "    \"\"\"\n",
    "    Averaging function to go from cell centres (pressure nodes)\n",
    "    to cell corners (velocity nodes) and vice versa.\n",
    "    avg acts on index idim; default is idim=1.\n",
    "    \"\"\"\n",
    "    # \n",
    "    if (axis==0):\n",
    "        B = (A[:-1,] + A[1:,])/2. #Gets averages between values in y direction (rows) #TODO 1\n",
    "    elif (axis==1):\n",
    "        B = (A[:,:-1] + A[:,1:])/2. #Gets averages between values in x direction (cols) #TODO 2\n",
    "    else:\n",
    "        raise ValueError('Wrong value for axis')\n",
    "    return B           \n",
    "\n",
    "def DD(n,h):\n",
    "    \"\"\"\n",
    "    One-dimensional finite-difference derivative matrix \n",
    "    of size n times n for second derivative:\n",
    "    h^2 * f''(x_j) = -f(x_j-1) + 2*f(x_j) - f(x_j+1)\n",
    "\n",
    "    Homogeneous Neumann boundary conditions on the boundaries \n",
    "    are imposed, i.e.\n",
    "    f(x_0) = f(x_1) \n",
    "    if the wall lies between x_0 and x_1. This gives then\n",
    "    h^2 * f''(x_j) = + f(x_0) - 2*f(x_1) + f(x_2)\n",
    "                   = + f(x_1) - 2*f(x_1) + f(x_2)\n",
    "                   =              f(x_1) + f(x_2)\n",
    "\n",
    "    For n=5 and h=1 the following result is obtained:\n",
    " \n",
    "    A =\n",
    "        -1     1     0     0     0\n",
    "         1    -2     1     0     0\n",
    "         0     1    -2     1     0\n",
    "         0     0     1    -2     1\n",
    "         0     0     0     1    -1\n",
    "    \"\"\"\n",
    "    center_diag = np.zeros(n)\n",
    "    center_diag[0] = 1\n",
    "    center_diag[-1] = 1\n",
    "    center_diag = center_diag -2*np.ones(n)\n",
    "    data = [np.ones(n), center_diag, np.ones(n)] #Defines the values in each specified diagonal #TODO 3\n",
    "    diags = np.array([-1,0,1]) #Determines which diagonals are stored in the sparse matrix (one above and one below the main diagonal) #TODO 4\n",
    "    A = sp.spdiags(data, diags, n, n) / h**2\n",
    "    return A\n",
    "    \n",
    "# DD(5,1).toarray()"
   ]
  },
  {
   "cell_type": "markdown",
   "metadata": {},
   "source": [
    "Homemade version of Matlab tic and toc functions"
   ]
  },
  {
   "cell_type": "code",
   "execution_count": 601,
   "metadata": {},
   "outputs": [],
   "source": [
    "def tic():\n",
    "    import time\n",
    "    global startTime_for_tictoc\n",
    "    startTime_for_tictoc = time.time()\n",
    "\n",
    "def toc():\n",
    "    import time\n",
    "    if 'startTime_for_tictoc' in globals():\n",
    "        print(\"Elapsed time is \" + str(time.time() - startTime_for_tictoc) + \" seconds.\")\n",
    "    else:\n",
    "        print(\"Toc: start time not set\")"
   ]
  },
  {
   "cell_type": "code",
   "execution_count": 602,
   "metadata": {},
   "outputs": [
    {
     "name": "stdout",
     "output_type": "stream",
     "text": [
      "[[1 2 3 4 5]\n",
      " [1 2 3 4 5]\n",
      " [1 2 3 4 5]\n",
      " [1 2 3 4 5]\n",
      " [1 2 3 4 5]]\n",
      "[[1. 2. 3. 4. 5.]\n",
      " [1. 2. 3. 4. 5.]\n",
      " [1. 2. 3. 4. 5.]\n",
      " [1. 2. 3. 4. 5.]]\n",
      "[[1.5 2.5 3.5 4.5]\n",
      " [1.5 2.5 3.5 4.5]\n",
      " [1.5 2.5 3.5 4.5]\n",
      " [1.5 2.5 3.5 4.5]\n",
      " [1.5 2.5 3.5 4.5]]\n",
      "<DIAgonal sparse matrix of dtype 'float64'\n",
      "\twith 13 stored elements (3 diagonals) and shape (5, 5)>\n",
      "  Coords\tValues\n",
      "  (1, 0)\t1.0\n",
      "  (2, 1)\t1.0\n",
      "  (3, 2)\t1.0\n",
      "  (4, 3)\t1.0\n",
      "  (0, 0)\t-1.0\n",
      "  (1, 1)\t-2.0\n",
      "  (2, 2)\t-2.0\n",
      "  (3, 3)\t-2.0\n",
      "  (4, 4)\t-1.0\n",
      "  (0, 1)\t1.0\n",
      "  (1, 2)\t1.0\n",
      "  (2, 3)\t1.0\n",
      "  (3, 4)\t1.0\n"
     ]
    }
   ],
   "source": [
    "# Testing above functions:\n",
    "\n",
    "A = np.array([1,2,3,4,5])\n",
    "A = np.transpose(A)\n",
    "A = np.tile(A, (5,1))\n",
    "print(A)\n",
    "print(avg(A))\n",
    "print(avg(A,1))\n",
    "\n",
    "print(DD(5,1))"
   ]
  },
  {
   "cell_type": "markdown",
   "metadata": {},
   "source": [
    "Simulation parameters:"
   ]
  },
  {
   "cell_type": "code",
   "execution_count": null,
   "metadata": {},
   "outputs": [],
   "source": [
    "Pr = 0.71\n",
    "Re = 25 #TODO 5\n",
    "# Ri = 0. \n",
    "dt = 0.001 #TODO 6\n",
    "Tf = 20\n",
    "Lx = 1.\n",
    "Ly = 1.\n",
    "Nx = 30 #TODO 7\n",
    "Ny = 30 #TODO 8\n",
    "namp = 0. # Adds randomness to starting temperature\n",
    "ig = 200"
   ]
  },
  {
   "cell_type": "markdown",
   "metadata": {},
   "source": [
    "Discretisation in space and time, and definition of boundary conditions:"
   ]
  },
  {
   "cell_type": "code",
   "execution_count": null,
   "metadata": {},
   "outputs": [],
   "source": [
    "# number of iteratins\n",
    "Nit = 50000 #TODO 9\n",
    "# edge coordinates\n",
    "x = np.linspace(0,Lx, Nx+1) #TODO 10\n",
    "y = np.linspace(0,Ly, Ny+1) #TODO 11\n",
    "# grid spacing\n",
    "hx = Lx/Nx #TODO 12\n",
    "hy = Ly/Ny #TODO 13"
   ]
  },
  {
   "cell_type": "code",
   "execution_count": 605,
   "metadata": {},
   "outputs": [],
   "source": [
    "# boundary conditions\n",
    "Utop = 1.\n",
    "Ttop = 1.\n",
    "Tbottom = 0.\n",
    "\n",
    "uN = x*0 + Utop # u is aligned with the vertical grid edges\n",
    "uN = uN[:, np.newaxis] # converts it to a column matrix (i varies, j const.)\n",
    "vN = avg(x)*0 # v is offset from vertical grid edges so use average to get them\n",
    "vN = vN[:, np.newaxis]\n",
    "\n",
    "uS = x*0 #TODO 14\n",
    "uS = uS[:, np.newaxis]\n",
    "vS = avg(x)*0 #TODO 15\n",
    "vS = vS[:, np.newaxis]\n",
    "\n",
    "uW = avg(y)*0 # u is offset from horizontal grid edges\n",
    "uW = uW[np.newaxis, :] # converts it to a row matrix (i const. j varies)\n",
    "vW = y*0 # v is aligned with horizontal grid edges #TODO 16\n",
    "vW = vW[np.newaxis, :] #TODO 17\n",
    "\n",
    "uE = avg(y)*0\n",
    "uE = uE[np.newaxis, :]\n",
    "vE = y*0\n",
    "vE = vE[np.newaxis, :]\n",
    "\n",
    "tN = x*0 + Ttop #TODO 18\n",
    "tS = x*0 + Tbottom #TODO 19"
   ]
  },
  {
   "cell_type": "code",
   "execution_count": 606,
   "metadata": {},
   "outputs": [
    {
     "name": "stdout",
     "output_type": "stream",
     "text": [
      "[0.  0.1 0.2 0.3 0.4 0.5 0.6 0.7 0.8 0.9 1. ]\n",
      "[0.  0.1 0.2 0.3 0.4 0.5 0.6 0.7 0.8 0.9 1. ]\n",
      "[[1.]\n",
      " [1.]\n",
      " [1.]\n",
      " [1.]\n",
      " [1.]\n",
      " [1.]\n",
      " [1.]\n",
      " [1.]\n",
      " [1.]\n",
      " [1.]\n",
      " [1.]]\n",
      "[[0.]\n",
      " [0.]\n",
      " [0.]\n",
      " [0.]\n",
      " [0.]\n",
      " [0.]\n",
      " [0.]\n",
      " [0.]\n",
      " [0.]\n",
      " [0.]\n",
      " [0.]]\n",
      "[[0. 0. 0. 0. 0. 0. 0. 0. 0. 0.]]\n",
      "[[0. 0. 0. 0. 0. 0. 0. 0. 0. 0.]]\n"
     ]
    }
   ],
   "source": [
    "print(x)\n",
    "print(y)\n",
    "print(uN)\n",
    "print(uS)\n",
    "print(uW)\n",
    "print(uE)"
   ]
  },
  {
   "cell_type": "markdown",
   "metadata": {},
   "source": [
    "Pressure correction and pressure Poisson equation:"
   ]
  },
  {
   "cell_type": "code",
   "execution_count": 607,
   "metadata": {},
   "outputs": [
    {
     "name": "stdout",
     "output_type": "stream",
     "text": [
      "[[   1.    0.    0. ...    0.    0.    0.]\n",
      " [ 100. -300.  100. ...    0.    0.    0.]\n",
      " [   0.  100. -300. ...    0.    0.    0.]\n",
      " ...\n",
      " [   0.    0.    0. ... -300.  100.    0.]\n",
      " [   0.    0.    0. ...  100. -300.  100.]\n",
      " [   0.    0.    0. ...    0.  100. -200.]]\n"
     ]
    }
   ],
   "source": [
    "# Compute system matrices for pressure \n",
    "# Laplace operator on cell centres: Fxx + Fyy\n",
    "\n",
    "# First set homogeneous Neumann condition all around\n",
    "Lp = np.kron(sp.eye(Ny).toarray(), DD(Nx, hx).toarray()) + np.kron(DD(Ny, hy).toarray(), sp.eye(Nx).toarray()) #pg 18\n",
    "# Lp = np.kron(....).toarray(),DD(.....).toarray()) + np.kron(.....).toarray(),sp.eye(.....).toarray()) #TODO 20\n",
    "\n",
    "# Set one Dirichlet value to fix pressure in that point\n",
    "# Lp[:,0] = 0 #Makes sure that the pressure at (0,0) doesn't change #TODO 21\n",
    "Lp[0,:] = 0 #TODO 22\n",
    "Lp[0,0] = 1 # Allows Lp to be non-singular and have a non-zero determinant. Actual value doesn't matter #TODO 23\n",
    "\n",
    "print(Lp)\n",
    "\n",
    "Lp_lu, Lp_piv = scl.lu_factor(Lp)\n",
    "Lps = sp.csc_matrix(Lp)\n",
    "Lps_lu = splu(Lps)"
   ]
  },
  {
   "cell_type": "markdown",
   "metadata": {},
   "source": [
    "Initial conditions:"
   ]
  },
  {
   "cell_type": "code",
   "execution_count": 608,
   "metadata": {},
   "outputs": [],
   "source": [
    "U = np.zeros((Nx-1,Ny))\n",
    "V = np.zeros((Nx,Ny-1))\n",
    "\n",
    "T = np.zeros((Nx,Ny)) + namp*(np.random.rand(Nx,Ny)-0.5) #TODO 24"
   ]
  },
  {
   "cell_type": "markdown",
   "metadata": {},
   "source": [
    "Main time-integration loop. Write output file \"cavity.mp4\" if "
   ]
  },
  {
   "cell_type": "code",
   "execution_count": 609,
   "metadata": {},
   "outputs": [
    {
     "name": "stdout",
     "output_type": "stream",
     "text": [
      "[         |         |         |         |         ]\n",
      "................................................... done. Iterations k=999 time=1.00\n",
      "Elapsed time is 0.4256620407104492 seconds.\n"
     ]
    }
   ],
   "source": [
    "if (ig>0):\n",
    "    metadata = dict(title='Lid-driven cavity', artist='SG2212')\n",
    "    writer = matplotlib.animation.FFMpegWriter(fps=15, metadata=metadata)\n",
    "    matplotlib.use(\"Agg\")\n",
    "    fig=plt.figure()\n",
    "    writer.setup(fig,\"cavity.mp4\",dpi=200)\n",
    "\n",
    "# progress bar\n",
    "print('[         |         |         |         |         ]')\n",
    "tic()\n",
    "for k in range(Nit):\n",
    "    # print(\"Iteration k=%i time=%.2e\" % (k,k*dt))\n",
    "\n",
    "    # include all boundary points for u and v (linear extrapolation\n",
    "    # for ghost cells) into extended array (Ue,Ve)\n",
    "    Ue = np.vstack((uW, U, uE)) # first add W and E boundary conditions\n",
    "    Ue = np.hstack((2*uS-Ue[:,0,np.newaxis], Ue, 2*uN-Ue[:,-1,np.newaxis]))\n",
    "\n",
    "    Ve = np.hstack((vS, V, vN)) #TODO 25\n",
    "    Ve = np.vstack(((2*vW-Ve[np.newaxis,0,:], Ve, 2*vE-Ve[np.newaxis,-1,:])))\n",
    "\n",
    "    # averaged (Ua,Va) of u and v on corners\n",
    "    Ua = avg(Ue, axis=1) #TODO 26\n",
    "    Va = avg(Ve)  #TODO 27\n",
    "\n",
    "    # print(np.max(Ua*Va))\n",
    "\n",
    "    #  construct individual parts of nonlinear terms\n",
    "    dUVdx = np.diff(Ua*Va, axis=0)/hx #TODO 28\n",
    "    dUVdy = np.diff(Ua*Va, axis=1)/hy #TODO 29\n",
    "    Ub    = avg(Ue[:,1:-1],0) # Average non-extrapolated points?  \n",
    "    Vb    = avg(Ve[1:-1,:],1) #TODO 30\n",
    "    dU2dx = np.diff(Ub*Ub, axis=0)/hx #TODO 31\n",
    "    dV2dy = np.diff(Vb*Vb, axis=1)/hy #TODO 32\n",
    "\n",
    "    # treat viscosity explicitly\n",
    "    viscu = np.diff(Ue[:,1:-1],axis=0,n=2)/hx**2 + np.diff(Ue[1:-1,:],axis=1,n=2)/hy**2 #eq 35 #TODO 33\n",
    "    viscv = np.diff(Ve[:,1:-1],axis=0,n=2)/hx**2 + np.diff(Ve[1:-1,:],axis=1,n=2)/hy**2 #TODO 34\n",
    "\n",
    "    # Assume forcing terms are zero?\n",
    "\n",
    "    # print(f'max dU2dx: {np.max(np.abs(dU2dx))}')\n",
    "    # print(f'max dUVdy: {np.max(np.abs(dUVdy))}')\n",
    "    # print(f'max viscu: {np.max(np.abs(viscu))}')\n",
    "\n",
    "    # compose final nonlinear term + explicit viscous terms\n",
    "    U = U + dt*(-dU2dx - dUVdy[1:-1,:] + 1/Re*viscu) #TODO 35\n",
    "    V = V + dt*(-dUVdx[:,1:-1] - dV2dy + 1/Re*viscv) #TODO 36\n",
    "\n",
    "    # pressure correction, Dirichlet P=0 at (1,1)\n",
    "    rhs = (np.diff(np.vstack((uW,U,uE)), axis=0)/hx + np.diff(np.hstack((vS, V, vN)),axis=1)/hy)/dt #TODO 37\n",
    "    rhs = np.reshape(rhs.T,(Nx*Ny,1)) #TODO 38\n",
    "    rhs[0] = 0\n",
    "\n",
    "    # different ways of solving the pressure-Poisson equation:\n",
    "    P = Lps_lu.solve(rhs) #TODO 39\n",
    "\n",
    "    P = np.reshape(P.T, (Ny, Nx)).T #TODO 40\n",
    "\n",
    "    # apply pressure correction\n",
    "    U = U - dt*np.diff(P, axis=0)/hx #TODO 41\n",
    "    V = V - dt*np.diff(P, axis=1)/hy #TODO 42\n",
    "\n",
    "    # Temperature equation (ignored?)\n",
    "    # .... #TODO 43\n",
    "\n",
    "    # do postprocessing to file\n",
    "    if (ig>0 and np.floor(k/ig)==k/ig):\n",
    "        plt.clf()\n",
    "        plt.contourf(avg(x),avg(y),T.T,levels=np.arange(0,1.05,0.05))\n",
    "        plt.gca().set_aspect(1.)\n",
    "        plt.colorbar()\n",
    "        plt.title(f'Temperature at t={k*dt:.2f}')\n",
    "        writer.grab_frame()\n",
    "\n",
    "    # update progress bar\n",
    "    if np.floor(51*k/Nit)>np.floor(51*(k-1)/Nit): \n",
    "        print('.',end='')\n",
    "\n",
    "# finalise progress bar\n",
    "print(' done. Iterations k=%i time=%.2f' % (k,k*dt))\n",
    "toc()\n",
    "\n",
    "if (ig>0):\n",
    "    writer.finish()"
   ]
  },
  {
   "cell_type": "markdown",
   "metadata": {},
   "source": [
    "Visualisation of the flow field at the end time:"
   ]
  },
  {
   "cell_type": "code",
   "execution_count": 610,
   "metadata": {
    "scrolled": true
   },
   "outputs": [
    {
     "data": {
      "image/png": "[encoded data removed]",
      "text/plain": [
       "<Figure size 800x500 with 2 Axes>"
      ]
     },
     "metadata": {},
     "output_type": "display_data"
    },
    {
     "data": {
      "image/png": "[encoded data removed]",
      "text/plain": [
       "<Figure size 800x500 with 2 Axes>"
      ]
     },
     "metadata": {},
     "output_type": "display_data"
    }
   ],
   "source": [
    "%matplotlib inline \n",
    "\n",
    "Ua = np.hstack( (uS,avg(np.vstack((uW,U,uE)),1),uN))\n",
    "Va = np.vstack((vW,avg(np.hstack((vS,V,\n",
    "                                  vN)),0),vE))\n",
    "plt.figure()\n",
    "plt.contourf(x,y,np.sqrt(Ua**2+Va**2).T,20)\n",
    "plt.quiver(x,y,Ua.T,Va.T)\n",
    "plt.gca().set_aspect(1.)\n",
    "plt.colorbar()\n",
    "plt.title(f'Velocity at t={k*dt:.2f}')\n",
    "plt.show()"
   ]
  },
  {
   "cell_type": "code",
   "execution_count": 611,
   "metadata": {},
   "outputs": [
    {
     "data": {
      "image/png": "[encoded data removed]",
      "text/plain": [
       "<Figure size 800x500 with 2 Axes>"
      ]
     },
     "metadata": {},
     "output_type": "display_data"
    }
   ],
   "source": [
    "# compute divergence on cell centres\n",
    "div = (np.diff( np.vstack( (uW,U, uE)),axis=0)/hx + np.diff( np.hstack(( vS, V, vN)),axis=1)/hy)\n",
    "plt.figure()\n",
    "plt.pcolor(avg(x),avg(y),div.T,shading='nearest')\n",
    "plt.gca().set_aspect(1.)\n",
    "plt.colorbar()\n",
    "plt.title(f'Divergence at t={k*dt:.2f}')\n",
    "plt.show()"
   ]
  },
  {
   "cell_type": "markdown",
   "metadata": {},
   "source": [
    "## Analysis of the pressure Poisson equation:"
   ]
  },
  {
   "cell_type": "markdown",
   "metadata": {},
   "source": [
    "Matrix structure:"
   ]
  },
  {
   "cell_type": "code",
   "execution_count": 612,
   "metadata": {},
   "outputs": [
    {
     "data": {
      "image/png": "[encoded data removed]",
      "text/plain": [
       "<Figure size 800x500 with 1 Axes>"
      ]
     },
     "metadata": {},
     "output_type": "display_data"
    }
   ],
   "source": [
    "plt.figure()\n",
    "plt.spy(Lp)\n",
    "plt.show()"
   ]
  },
  {
   "cell_type": "markdown",
   "metadata": {},
   "source": [
    "Size, rank and null space:"
   ]
  },
  {
   "cell_type": "code",
   "execution_count": 613,
   "metadata": {},
   "outputs": [
    {
     "data": {
      "text/plain": [
       "(100, 100)"
      ]
     },
     "execution_count": 613,
     "metadata": {},
     "output_type": "execute_result"
    }
   ],
   "source": [
    "Lp.shape"
   ]
  },
  {
   "cell_type": "code",
   "execution_count": 614,
   "metadata": {},
   "outputs": [
    {
     "data": {
      "text/plain": [
       "np.int64(100)"
      ]
     },
     "execution_count": 614,
     "metadata": {},
     "output_type": "execute_result"
    }
   ],
   "source": [
    "np.linalg.matrix_rank(Lp)"
   ]
  },
  {
   "cell_type": "code",
   "execution_count": 615,
   "metadata": {},
   "outputs": [
    {
     "data": {
      "text/plain": [
       "array([], shape=(100, 0), dtype=float64)"
      ]
     },
     "execution_count": 615,
     "metadata": {},
     "output_type": "execute_result"
    }
   ],
   "source": [
    "scl.null_space(Lp)"
   ]
  }
 ],
 "metadata": {
  "kernelspec": {
   "display_name": "env",
   "language": "python",
   "name": "python3"
  },
  "language_info": {
   "codemirror_mode": {
    "name": "ipython",
    "version": 3
   },
   "file_extension": ".py",
   "mimetype": "text/x-python",
   "name": "python",
   "nbconvert_exporter": "python",
   "pygments_lexer": "ipython3",
   "version": "3.12.1"
  }
 },
 "nbformat": 4,
 "nbformat_minor": 1
}
