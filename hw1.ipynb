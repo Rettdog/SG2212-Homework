{
 "cells": [
  {
   "cell_type": "markdown",
   "metadata": {},
   "source": [
    "# Task 2:\n",
    "\n",
    "The following code can be used in python to determine the machine accuracy ε (or Machine epsilon):\n",
    "\n",
    "```\n",
    "import numpy as np\n",
    "numprec=1.0\n",
    "while 1<np.float32(1+numprec): # Check sum with single precision\n",
    "# while 1<1+numprec: # Check sum with double precision\n",
    "numprec*=0.5\n",
    "numprec*=2\n",
    "```\n",
    "\n",
    "1. Determine ε using the above code, both for single and double precision. A double precision number\n",
    "uses 8 bytes of storage, whereas a single precision number only occupies 4 bytes.\n",
    "2. Give a definition of the machine accuracy based on the code above (use words and not mathematical\n",
    "expression)"
   ]
  },
  {
   "cell_type": "code",
   "execution_count": 1,
   "metadata": {},
   "outputs": [
    {
     "name": "stdout",
     "output_type": "stream",
     "text": [
      "Machine epsilon (Single, 4 bytes):1.1920928955078125e-07\n",
      "Machine epsilon (Double, 8 bytes):2.220446049250313e-16\n"
     ]
    }
   ],
   "source": [
    "import numpy as np\n",
    "\n",
    "# Divide 1 by 2 repeatedly until it is equivalent to 0 according to 32 bit floating point values\n",
    "numprec_single = 1.0\n",
    "while 1<np.float32(1+numprec_single): #single\n",
    "    numprec_single*=0.5\n",
    "numprec_single*=2\n",
    "print(f'Machine epsilon (Single, 4 bytes):{numprec_single}')\n",
    "\n",
    "# Divide 1 by 2 repeatedly until it is equivalent to 0 according to a double floating point value\n",
    "numprec_double = 1.0\n",
    "#while 1<np.float32(1+numprec): #single\n",
    "while 1<1+numprec_double: #double\n",
    "    numprec_double*=0.5\n",
    "numprec_double*=2\n",
    "print(f'Machine epsilon (Double, 8 bytes):{numprec_double}')"
   ]
  },
  {
   "cell_type": "markdown",
   "metadata": {},
   "source": [
    "# Task 3\n",
    "\n",
    "### Given:\n",
    "\n",
    "Approximation of a derivative given by the centered difference scheme:\n",
    "$$f'_n(x) = \\frac{f(x+\\Delta x) - f(x - \\Delta x)}{2\\Delta x}$$\n",
    "\n",
    "The estimate of the relative discretization error:\n",
    "$$\\epsilon _d = |\\frac{f'(x) - f'_n(x)}{f'(x)}|$$\n",
    "\n",
    "Let $x = 2$, $\\Delta x = 10^{-20} \\cdots 10^0$ \n",
    "\n",
    "### Find:\n",
    "\n",
    "Use the centered difference scheme to compute the relative discretization error of the function:\n",
    "$$f(x) = \\frac{1}{2+x} + x^2$$\n",
    "\n",
    "Plot $\\epsilon _d$ vs. $\\Delta x$ on a log-log plot\n"
   ]
  },
  {
   "cell_type": "code",
   "execution_count": 16,
   "metadata": {},
   "outputs": [
    {
     "name": "stdout",
     "output_type": "stream",
     "text": [
      "[1.         1.         1.         1.         1.         1.\n",
      " 1.         1.         1.         1.         1.         1.\n",
      " 1.         1.         1.         1.         1.         1.\n",
      " 1.         1.         1.         0.36961445 0.18770148 0.0054518\n",
      " 0.09305919 0.07874333 0.01457127 0.03300319 0.02831651 0.02360712\n",
      " 0.02270742 0.02519165 0.02122293 0.01980186 0.02369633 0.02270896\n",
      " 0.02291075 0.02304884 0.02285876 0.02327812 0.02331843 0.02326029\n",
      " 0.02325196 0.02323477 0.02325287 0.02327266 0.0232516  0.02325723\n",
      " 0.02325336 0.02325711 0.02325632 0.02325623 0.02325581 0.02325581\n",
      " 0.02325575 0.02325588 0.0232558  0.02325585 0.0232558  0.02325582\n",
      " 0.02325581 0.02325581 0.02325582 0.02325581 0.02325581 0.02325581\n",
      " 0.02325581 0.02325581 0.02325581 0.02325581 0.02325581 0.02325581\n",
      " 0.02325581 0.02325581 0.02325581 0.02325581 0.02325581 0.02325581\n",
      " 0.02325581 0.02325581 0.02325581 0.02325581 0.02325581 0.02325581\n",
      " 0.02325581 0.02325582 0.02325582 0.02325583 0.02325585 0.0232559\n",
      " 0.02325604 0.02325638 0.02325725 0.02325946 0.02326507 0.0232793\n",
      " 0.0233155  0.02340804 0.02364766 0.02428941]\n"
     ]
    },
    {
     "data": {
      "text/plain": [
       "[<matplotlib.lines.Line2D at 0x1926aabdfd0>]"
      ]
     },
     "execution_count": 16,
     "metadata": {},
     "output_type": "execute_result"
    },
    {
     "data": {
      "image/png": "[encoded data removed]",
      "text/plain": [
       "<Figure size 640x480 with 1 Axes>"
      ]
     },
     "metadata": {},
     "output_type": "display_data"
    }
   ],
   "source": [
    "import matplotlib as mpl\n",
    "import matplotlib.pyplot as plt\n",
    "\n",
    "exponents = np.linspace(-20, 0, 100)\n",
    "delta_x = [np.float64(10**n) for n in exponents]\n",
    "\n",
    "# Define the function\n",
    "def f(x):\n",
    "    return 1/(2+x) + x**2\n",
    "\n",
    "# Define the function for array parameters\n",
    "def f_array(x):\n",
    "    return [f(x_n) for x_n in x]\n",
    "\n",
    "# Analytic derivative for f(x)\n",
    "def dfdt(x):\n",
    "    return 1/2/(2+x)**2 + 2*x\n",
    "\n",
    "# Analytic derivative defined for arrays\n",
    "def dfdt_array(x):\n",
    "    return [dfdt(x_n) for x_n in x]\n",
    "\n",
    "# Numeric centered difference scheme\n",
    "def dfdt_n(x, delta_x):\n",
    "    return ( f(x+delta_x) - f(x-delta_x) ) / (2 * delta_x)\n",
    "\n",
    "# Numeric derivative for single value of x and array of delta_x values\n",
    "def dfdt_n_array(x, delta_x):\n",
    "    return [dfdt_n(x, delta_x_n) for delta_x_n in delta_x]\n",
    "\n",
    "# Relative discretion error\n",
    "e_d = np.abs( ( np.ones(len(delta_x))*dfdt(2.0) - dfdt_n_array(2.0, delta_x) ) / dfdt(2.0) )\n",
    "print(e_d)\n",
    "\n",
    "plt.loglog(delta_x, e_d)"
   ]
  }
 ],
 "metadata": {
  "kernelspec": {
   "display_name": "env",
   "language": "python",
   "name": "python3"
  },
  "language_info": {
   "codemirror_mode": {
    "name": "ipython",
    "version": 3
   },
   "file_extension": ".py",
   "mimetype": "text/x-python",
   "name": "python",
   "nbconvert_exporter": "python",
   "pygments_lexer": "ipython3",
   "version": "3.12.1"
  }
 },
 "nbformat": 4,
 "nbformat_minor": 2
}
